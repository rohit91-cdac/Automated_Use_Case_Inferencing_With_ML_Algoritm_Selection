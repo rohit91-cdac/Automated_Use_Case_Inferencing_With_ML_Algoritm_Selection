{
 "cells": [
  {
   "cell_type": "code",
   "execution_count": 5,
   "id": "219cfa8a-d5c3-4c6a-9def-e3f159ac45ea",
   "metadata": {},
   "outputs": [],
   "source": [
    "import pandas as pd"
   ]
  },
  {
   "cell_type": "code",
   "execution_count": 6,
   "id": "2d9052ac-3c1a-4856-a988-bfbccd98cc42",
   "metadata": {},
   "outputs": [],
   "source": [
    "uc_df = pd.read_csv(\"Final_Use_Case_List_With_Algo_Label.csv\")"
   ]
  },
  {
   "cell_type": "code",
   "execution_count": 3,
   "id": "36755a27-c0d9-4388-9b71-979bf39a8c6c",
   "metadata": {},
   "outputs": [
    {
     "data": {
      "text/html": [
       "<div>\n",
       "<style scoped>\n",
       "    .dataframe tbody tr th:only-of-type {\n",
       "        vertical-align: middle;\n",
       "    }\n",
       "\n",
       "    .dataframe tbody tr th {\n",
       "        vertical-align: top;\n",
       "    }\n",
       "\n",
       "    .dataframe thead th {\n",
       "        text-align: right;\n",
       "    }\n",
       "</style>\n",
       "<table border=\"1\" class=\"dataframe\">\n",
       "  <thead>\n",
       "    <tr style=\"text-align: right;\">\n",
       "      <th></th>\n",
       "      <th>Unnamed: 0</th>\n",
       "      <th>Use_Cases</th>\n",
       "      <th>ML_Algo</th>\n",
       "    </tr>\n",
       "  </thead>\n",
       "  <tbody>\n",
       "    <tr>\n",
       "      <th>0</th>\n",
       "      <td>0</td>\n",
       "      <td>Recommend products similar to  AEROREADY junio...</td>\n",
       "      <td>K_Means</td>\n",
       "    </tr>\n",
       "    <tr>\n",
       "      <th>1</th>\n",
       "      <td>1</td>\n",
       "      <td>Forecast the sales of the product AEROREADY ju...</td>\n",
       "      <td>LSTM</td>\n",
       "    </tr>\n",
       "    <tr>\n",
       "      <th>2</th>\n",
       "      <td>2</td>\n",
       "      <td>Generate catalogue of similar type of products...</td>\n",
       "      <td>DBSCAN</td>\n",
       "    </tr>\n",
       "    <tr>\n",
       "      <th>3</th>\n",
       "      <td>3</td>\n",
       "      <td>Project the price of product AEROREADY juniors...</td>\n",
       "      <td>ARIMA</td>\n",
       "    </tr>\n",
       "    <tr>\n",
       "      <th>4</th>\n",
       "      <td>4</td>\n",
       "      <td>Predict the popularity of the product AEROREAD...</td>\n",
       "      <td>XgBoost</td>\n",
       "    </tr>\n",
       "  </tbody>\n",
       "</table>\n",
       "</div>"
      ],
      "text/plain": [
       "   Unnamed: 0                                          Use_Cases  ML_Algo\n",
       "0           0  Recommend products similar to  AEROREADY junio...  K_Means\n",
       "1           1  Forecast the sales of the product AEROREADY ju...     LSTM\n",
       "2           2  Generate catalogue of similar type of products...   DBSCAN\n",
       "3           3  Project the price of product AEROREADY juniors...    ARIMA\n",
       "4           4  Predict the popularity of the product AEROREAD...  XgBoost"
      ]
     },
     "execution_count": 3,
     "metadata": {},
     "output_type": "execute_result"
    }
   ],
   "source": [
    "uc_df.head()"
   ]
  },
  {
   "cell_type": "code",
   "execution_count": 12,
   "id": "806b0449-f69b-4c23-b48a-ef5f09b6eef9",
   "metadata": {},
   "outputs": [],
   "source": [
    "from gensim.test.utils import datapath\n",
    "from gensim.models.fasttext import FastText"
   ]
  },
  {
   "cell_type": "code",
   "execution_count": 13,
   "id": "5e5d5786-b61e-4cdb-8560-a710f252f056",
   "metadata": {},
   "outputs": [],
   "source": [
    "# Set file names for train and test data\n",
    "corpus_file = datapath('lee_background.cor')\n",
    "model = FastText(vector_size=100)"
   ]
  },
  {
   "cell_type": "code",
   "execution_count": 14,
   "id": "8d1f8f78-3d77-4ed1-9d42-ddde0da80854",
   "metadata": {},
   "outputs": [],
   "source": [
    "# build the vocabulary\n",
    "model.build_vocab(corpus_file='corpus_file.txt')"
   ]
  },
  {
   "cell_type": "code",
   "execution_count": 15,
   "id": "9c5d1a14-4749-4578-99e9-43ab51e78437",
   "metadata": {},
   "outputs": [
    {
     "data": {
      "text/plain": [
       "(3432, 152410)"
      ]
     },
     "execution_count": 15,
     "metadata": {},
     "output_type": "execute_result"
    }
   ],
   "source": [
    "model.train(\n",
    "    corpus_file=corpus_file, epochs=model.epochs,\n",
    "    total_examples=model.corpus_count, total_words=model.corpus_total_words,\n",
    ")"
   ]
  },
  {
   "cell_type": "code",
   "execution_count": 19,
   "id": "9b6f2dfa-3f0e-4ed6-9ce2-ff45284c2f51",
   "metadata": {},
   "outputs": [],
   "source": [
    "with open(corpus_file, 'r') as fopen:\n",
    "    file_read = fopen.readlines()"
   ]
  },
  {
   "cell_type": "code",
   "execution_count": 10,
   "id": "bfe09afa-fea7-468c-86e4-0cd497d84d03",
   "metadata": {},
   "outputs": [],
   "source": [
    "corpus_file = '\\n. '.join(list(uc_df['Use_Cases']))"
   ]
  },
  {
   "cell_type": "code",
   "execution_count": 11,
   "id": "efe5b201-6708-4152-a81a-03248400a459",
   "metadata": {},
   "outputs": [],
   "source": [
    "with open(\"corpus_file.txt\", 'w') as fwrite:\n",
    "    fwrite.write(corpus_file)"
   ]
  },
  {
   "cell_type": "code",
   "execution_count": null,
   "id": "438cf721-f55e-4f4c-b194-b0e3687b504d",
   "metadata": {},
   "outputs": [],
   "source": [
    "model"
   ]
  }
 ],
 "metadata": {
  "kernelspec": {
   "display_name": "Python 3 (ipykernel)",
   "language": "python",
   "name": "python3"
  },
  "language_info": {
   "codemirror_mode": {
    "name": "ipython",
    "version": 3
   },
   "file_extension": ".py",
   "mimetype": "text/x-python",
   "name": "python",
   "nbconvert_exporter": "python",
   "pygments_lexer": "ipython3",
   "version": "3.9.15"
  }
 },
 "nbformat": 4,
 "nbformat_minor": 5
}
