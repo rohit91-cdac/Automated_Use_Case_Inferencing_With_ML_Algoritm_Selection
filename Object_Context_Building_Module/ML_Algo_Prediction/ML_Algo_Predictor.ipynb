{
 "cells": [
  {
   "cell_type": "code",
   "execution_count": 1,
   "id": "14a62e57-20e0-4828-84c6-46d4c577bdc1",
   "metadata": {},
   "outputs": [],
   "source": [
    "import pandas as pd"
   ]
  },
  {
   "cell_type": "code",
   "execution_count": 2,
   "id": "962c217e-7793-43fb-9eb6-4ccd778203b9",
   "metadata": {},
   "outputs": [],
   "source": [
    "read_file = pd.read_csv(\"Embedding_Data.csv\")"
   ]
  },
  {
   "cell_type": "code",
   "execution_count": 3,
   "id": "601c0c1a-3a30-46ca-a9f0-d78fe2f8e2d3",
   "metadata": {},
   "outputs": [
    {
     "data": {
      "text/html": [
       "<div>\n",
       "<style scoped>\n",
       "    .dataframe tbody tr th:only-of-type {\n",
       "        vertical-align: middle;\n",
       "    }\n",
       "\n",
       "    .dataframe tbody tr th {\n",
       "        vertical-align: top;\n",
       "    }\n",
       "\n",
       "    .dataframe thead th {\n",
       "        text-align: right;\n",
       "    }\n",
       "</style>\n",
       "<table border=\"1\" class=\"dataframe\">\n",
       "  <thead>\n",
       "    <tr style=\"text-align: right;\">\n",
       "      <th></th>\n",
       "      <th>Unnamed: 0</th>\n",
       "      <th>0</th>\n",
       "      <th>1</th>\n",
       "      <th>2</th>\n",
       "      <th>3</th>\n",
       "      <th>4</th>\n",
       "      <th>5</th>\n",
       "      <th>6</th>\n",
       "      <th>7</th>\n",
       "      <th>8</th>\n",
       "      <th>...</th>\n",
       "      <th>503</th>\n",
       "      <th>504</th>\n",
       "      <th>505</th>\n",
       "      <th>506</th>\n",
       "      <th>507</th>\n",
       "      <th>508</th>\n",
       "      <th>509</th>\n",
       "      <th>510</th>\n",
       "      <th>511</th>\n",
       "      <th>ML_Algo</th>\n",
       "    </tr>\n",
       "  </thead>\n",
       "  <tbody>\n",
       "    <tr>\n",
       "      <th>0</th>\n",
       "      <td>0</td>\n",
       "      <td>-0.051891</td>\n",
       "      <td>-0.015976</td>\n",
       "      <td>-0.061629</td>\n",
       "      <td>0.046399</td>\n",
       "      <td>-0.018213</td>\n",
       "      <td>0.061907</td>\n",
       "      <td>0.018400</td>\n",
       "      <td>0.033098</td>\n",
       "      <td>-0.013741</td>\n",
       "      <td>...</td>\n",
       "      <td>0.036289</td>\n",
       "      <td>-0.027079</td>\n",
       "      <td>0.074891</td>\n",
       "      <td>-0.059269</td>\n",
       "      <td>0.017839</td>\n",
       "      <td>0.061928</td>\n",
       "      <td>-0.000457</td>\n",
       "      <td>-0.074404</td>\n",
       "      <td>-0.073431</td>\n",
       "      <td>K_Means</td>\n",
       "    </tr>\n",
       "    <tr>\n",
       "      <th>1</th>\n",
       "      <td>1</td>\n",
       "      <td>-0.031023</td>\n",
       "      <td>-0.007619</td>\n",
       "      <td>-0.072375</td>\n",
       "      <td>0.048698</td>\n",
       "      <td>-0.015002</td>\n",
       "      <td>0.070546</td>\n",
       "      <td>0.015014</td>\n",
       "      <td>-0.010198</td>\n",
       "      <td>-0.009262</td>\n",
       "      <td>...</td>\n",
       "      <td>0.017093</td>\n",
       "      <td>0.025700</td>\n",
       "      <td>0.054007</td>\n",
       "      <td>-0.017427</td>\n",
       "      <td>-0.033587</td>\n",
       "      <td>-0.042488</td>\n",
       "      <td>-0.019034</td>\n",
       "      <td>-0.081012</td>\n",
       "      <td>-0.046534</td>\n",
       "      <td>LSTM</td>\n",
       "    </tr>\n",
       "    <tr>\n",
       "      <th>2</th>\n",
       "      <td>2</td>\n",
       "      <td>0.008872</td>\n",
       "      <td>-0.030645</td>\n",
       "      <td>-0.064635</td>\n",
       "      <td>0.073782</td>\n",
       "      <td>-0.033790</td>\n",
       "      <td>0.074225</td>\n",
       "      <td>-0.033651</td>\n",
       "      <td>0.033711</td>\n",
       "      <td>-0.008916</td>\n",
       "      <td>...</td>\n",
       "      <td>0.023938</td>\n",
       "      <td>-0.037015</td>\n",
       "      <td>0.073519</td>\n",
       "      <td>-0.001105</td>\n",
       "      <td>0.025220</td>\n",
       "      <td>0.026691</td>\n",
       "      <td>0.003299</td>\n",
       "      <td>-0.063534</td>\n",
       "      <td>-0.069485</td>\n",
       "      <td>DBSCAN</td>\n",
       "    </tr>\n",
       "    <tr>\n",
       "      <th>3</th>\n",
       "      <td>3</td>\n",
       "      <td>-0.018570</td>\n",
       "      <td>-0.065392</td>\n",
       "      <td>-0.060226</td>\n",
       "      <td>0.068608</td>\n",
       "      <td>-0.010188</td>\n",
       "      <td>0.079610</td>\n",
       "      <td>0.012476</td>\n",
       "      <td>0.017613</td>\n",
       "      <td>0.026185</td>\n",
       "      <td>...</td>\n",
       "      <td>0.018482</td>\n",
       "      <td>-0.017448</td>\n",
       "      <td>0.072176</td>\n",
       "      <td>-0.046835</td>\n",
       "      <td>-0.035205</td>\n",
       "      <td>-0.042301</td>\n",
       "      <td>-0.034488</td>\n",
       "      <td>-0.079061</td>\n",
       "      <td>-0.064798</td>\n",
       "      <td>ARIMA</td>\n",
       "    </tr>\n",
       "    <tr>\n",
       "      <th>4</th>\n",
       "      <td>4</td>\n",
       "      <td>-0.051853</td>\n",
       "      <td>-0.047139</td>\n",
       "      <td>-0.069644</td>\n",
       "      <td>0.039946</td>\n",
       "      <td>-0.041594</td>\n",
       "      <td>0.076792</td>\n",
       "      <td>0.018718</td>\n",
       "      <td>0.014783</td>\n",
       "      <td>0.039036</td>\n",
       "      <td>...</td>\n",
       "      <td>0.028892</td>\n",
       "      <td>-0.004643</td>\n",
       "      <td>0.053501</td>\n",
       "      <td>-0.031011</td>\n",
       "      <td>-0.046399</td>\n",
       "      <td>-0.050395</td>\n",
       "      <td>0.012029</td>\n",
       "      <td>-0.084268</td>\n",
       "      <td>-0.056427</td>\n",
       "      <td>XgBoost</td>\n",
       "    </tr>\n",
       "  </tbody>\n",
       "</table>\n",
       "<p>5 rows × 514 columns</p>\n",
       "</div>"
      ],
      "text/plain": [
       "   Unnamed: 0         0         1         2         3         4         5  \\\n",
       "0           0 -0.051891 -0.015976 -0.061629  0.046399 -0.018213  0.061907   \n",
       "1           1 -0.031023 -0.007619 -0.072375  0.048698 -0.015002  0.070546   \n",
       "2           2  0.008872 -0.030645 -0.064635  0.073782 -0.033790  0.074225   \n",
       "3           3 -0.018570 -0.065392 -0.060226  0.068608 -0.010188  0.079610   \n",
       "4           4 -0.051853 -0.047139 -0.069644  0.039946 -0.041594  0.076792   \n",
       "\n",
       "          6         7         8  ...       503       504       505       506  \\\n",
       "0  0.018400  0.033098 -0.013741  ...  0.036289 -0.027079  0.074891 -0.059269   \n",
       "1  0.015014 -0.010198 -0.009262  ...  0.017093  0.025700  0.054007 -0.017427   \n",
       "2 -0.033651  0.033711 -0.008916  ...  0.023938 -0.037015  0.073519 -0.001105   \n",
       "3  0.012476  0.017613  0.026185  ...  0.018482 -0.017448  0.072176 -0.046835   \n",
       "4  0.018718  0.014783  0.039036  ...  0.028892 -0.004643  0.053501 -0.031011   \n",
       "\n",
       "        507       508       509       510       511  ML_Algo  \n",
       "0  0.017839  0.061928 -0.000457 -0.074404 -0.073431  K_Means  \n",
       "1 -0.033587 -0.042488 -0.019034 -0.081012 -0.046534     LSTM  \n",
       "2  0.025220  0.026691  0.003299 -0.063534 -0.069485   DBSCAN  \n",
       "3 -0.035205 -0.042301 -0.034488 -0.079061 -0.064798    ARIMA  \n",
       "4 -0.046399 -0.050395  0.012029 -0.084268 -0.056427  XgBoost  \n",
       "\n",
       "[5 rows x 514 columns]"
      ]
     },
     "execution_count": 3,
     "metadata": {},
     "output_type": "execute_result"
    }
   ],
   "source": [
    "read_file.head()"
   ]
  },
  {
   "cell_type": "code",
   "execution_count": 4,
   "id": "f871ed5b-83e2-444c-a2c6-0da4c2cb4404",
   "metadata": {},
   "outputs": [],
   "source": [
    "import pandas as pd\n",
    "from sklearn.pipeline import Pipeline, FeatureUnion\n",
    "from sklearn.base import BaseEstimator, TransformerMixin\n",
    "import logging\n",
    "from sklearn.preprocessing import LabelEncoder\n",
    "import xgboost as xgb"
   ]
  },
  {
   "cell_type": "code",
   "execution_count": 5,
   "id": "c16f9219-b2e3-4b3e-967c-ee7b8d6bd7f5",
   "metadata": {},
   "outputs": [],
   "source": [
    "class FeatureSet(BaseEstimator, TransformerMixin):\n",
    "\n",
    "    def __init__(self):\n",
    "        pass\n",
    "\n",
    "    def fit(self, X, Y=None):\n",
    "        return self\n",
    "\n",
    "    def transform(self, X):\n",
    "        return X[:,0:512]"
   ]
  },
  {
   "cell_type": "code",
   "execution_count": 16,
   "id": "ad27193e-89ce-4633-9781-96e105e8a28a",
   "metadata": {},
   "outputs": [],
   "source": [
    "class LabelEncoderTransform(BaseEstimator,TransformerMixin):\n",
    "\n",
    "    def __init__(self):\n",
    "        self.le = LabelEncoder()\n",
    "\n",
    "    def fit(self, X, Y=None):\n",
    "        self.le.fit(X[:,-1])\n",
    "        print(self.le.classes_)\n",
    "        return self\n",
    "\n",
    "    def transform(self, X):\n",
    "        return self.le.transform(X[:,-1]).reshape(132,1)"
   ]
  },
  {
   "cell_type": "code",
   "execution_count": 17,
   "id": "729eb98e-d542-42dd-88b3-f32209aaf0b7",
   "metadata": {},
   "outputs": [],
   "source": [
    "class XGBoost_Predictor(BaseEstimator,TransformerMixin):\n",
    "    \n",
    "    def __init__(self):\n",
    "        self.xgb_model = xgb.XGBClassifier(objective=\"multi:softprob\", random_state=42)\n",
    "        \n",
    "    def fit(self, X, Y=None):\n",
    "        self.xgb_model.fit(X[:,0:512], X[:,-1])\n",
    "        return self\n",
    "        \n",
    "    def transform(self, X, Y=None):\n",
    "        return self.xgb_model, self.xgb_model.predict(X[:,0:512])"
   ]
  },
  {
   "cell_type": "code",
   "execution_count": 18,
   "id": "4cb95762-e1fd-4441-ae08-5024986d1b2b",
   "metadata": {},
   "outputs": [],
   "source": [
    "combine_feat_label = FeatureUnion(transformer_list=\n",
    "        [\n",
    "            (\"Feature_Combine\", FeatureSet()),\n",
    "            (\"Label_Encoder\", LabelEncoderTransform())\n",
    "        ]\n",
    "    )"
   ]
  },
  {
   "cell_type": "code",
   "execution_count": 19,
   "id": "06c1f57c-e0bb-47d6-902c-7c876934f10d",
   "metadata": {},
   "outputs": [],
   "source": [
    "model_train = Pipeline(steps=\n",
    "                       [\n",
    "                           (\"Feature_Union\", combine_feat_label),\n",
    "                           (\"XGBoost_Predictor\", XGBoost_Predictor())\n",
    "                       ]\n",
    "                      )"
   ]
  },
  {
   "cell_type": "code",
   "execution_count": 20,
   "id": "47ae1d79-7f1e-4153-b1f5-3d13da31a857",
   "metadata": {},
   "outputs": [
    {
     "name": "stdout",
     "output_type": "stream",
     "text": [
      "['ARIMA' 'AssociativeLearning' 'DBSCAN' 'K_Means' 'LSTM' 'XgBoost']\n"
     ]
    }
   ],
   "source": [
    "get_model, get_transform_data = model_train.fit_transform(read_file.to_numpy())"
   ]
  },
  {
   "cell_type": "code",
   "execution_count": 23,
   "id": "c771219f-28c2-40a1-b1f2-b92adebd96b8",
   "metadata": {},
   "outputs": [],
   "source": [
    "import tensorflow as tf\n",
    "import tensorflow_hub as hub\n",
    "def gen_test_data_predict(xg_model):\n",
    "    module_url = \"https://tfhub.dev/google/universal-sentence-encoder/4\"\n",
    "    model = hub.load(module_url)\n",
    "    label_dict = {0:'ARIMA', 1:'AssociativeLearning', 2:'DBSCAN', 3:'K_Means', 4:'LSTM', 5:'XgBoost'}\n",
    "    print(\"module %s loaded\" % module_url)\n",
    "    result_dict = {}\n",
    "    def embed(input_sent):\n",
    "        return model(input_sent)\n",
    "    test_data_load = pd.read_csv(\"Test_Data.csv\")\n",
    "    use_case_list = list(test_data_load['Use_Cases'])\n",
    "    sentence_embeddings = pd.DataFrame(embed(use_case_list).numpy(),columns=list(range(0, 512)))\n",
    "    get_labels = test_data_load[['ML_Algo']]\n",
    "    concat_feat_label = pd.concat([sentence_embeddings, get_labels], axis = 1)\n",
    "    print(f\"Total Number of generated Embeddings are {len(sentence_embeddings)}\")\n",
    "    print(f\"Total Number of Use-Case {len(test_data_load)}\")\n",
    "    print(f\"Length of single embedding {len(sentence_embeddings[0])}\")\n",
    "    get_test_data_predict = xg_model.predict(concat_feat_label.to_numpy()[:,0:512])\n",
    "    for uc, predict_label in zip(use_case_list, get_test_data_predict):\n",
    "        result_dict[uc] = label_dict.get(predict_label)\n",
    "    return result_dict\n",
    "    "
   ]
  },
  {
   "cell_type": "code",
   "execution_count": 24,
   "id": "b79c03b8-7a22-408c-8143-33a1361d3e00",
   "metadata": {},
   "outputs": [
    {
     "name": "stdout",
     "output_type": "stream",
     "text": [
      "module https://tfhub.dev/google/universal-sentence-encoder/4 loaded\n"
     ]
    },
    {
     "name": "stderr",
     "output_type": "stream",
     "text": [
      "2023-10-05 01:24:11.533701: I tensorflow/core/common_runtime/executor.cc:1197] [/device:CPU:0] (DEBUG INFO) Executor start aborting (this does not indicate an error and you can ignore this message): INVALID_ARGUMENT: You must feed a value for placeholder tensor 'inputs' with dtype string\n",
      "\t [[{{node inputs}}]]\n"
     ]
    },
    {
     "name": "stdout",
     "output_type": "stream",
     "text": [
      "Total Number of generated Embeddings are 2\n",
      "Total Number of Use-Case 2\n",
      "Length of single embedding 2\n"
     ]
    },
    {
     "data": {
      "text/plain": [
       "{'Predict the growth of product Nike Sports shoes within next year': 'K_Means',\n",
       " 'Generate products similar to the Adidas winter wear': 'AssociativeLearning'}"
      ]
     },
     "execution_count": 24,
     "metadata": {},
     "output_type": "execute_result"
    }
   ],
   "source": [
    "gen_test_data_predict(get_model)"
   ]
  },
  {
   "cell_type": "code",
   "execution_count": null,
   "id": "23fc9619-a1b7-4cac-87e8-8c6dc6e1ae37",
   "metadata": {},
   "outputs": [],
   "source": []
  }
 ],
 "metadata": {
  "kernelspec": {
   "display_name": "Python 3 (ipykernel)",
   "language": "python",
   "name": "python3"
  },
  "language_info": {
   "codemirror_mode": {
    "name": "ipython",
    "version": 3
   },
   "file_extension": ".py",
   "mimetype": "text/x-python",
   "name": "python",
   "nbconvert_exporter": "python",
   "pygments_lexer": "ipython3",
   "version": "3.9.15"
  }
 },
 "nbformat": 4,
 "nbformat_minor": 5
}
